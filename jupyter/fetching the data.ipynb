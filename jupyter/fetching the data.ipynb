{
 "cells": [
  {
   "cell_type": "code",
   "execution_count": 1,
   "id": "a7427ea4",
   "metadata": {},
   "outputs": [],
   "source": [
    "import praw\n",
    "import pandas as pd\n",
    "import matplotlib.pyplot as plt\n",
    "import datetime\n",
    "import json\n",
    "import requests\n",
    "import os.path"
   ]
  },
  {
   "cell_type": "code",
   "execution_count": 2,
   "id": "722aad5a",
   "metadata": {},
   "outputs": [],
   "source": [
    "def api_request(subreddit, startDate, endDate):\n",
    "    size = 100\n",
    "    host = \"https://api.pushshift.io/reddit/search/submission\"\n",
    "    try:\n",
    "        posts = requests.get(host,\n",
    "                headers={'User-Agent': 'TextMining'},\n",
    "                params={'subreddit': subreddit,\n",
    "                     'before': endDate,\n",
    "                     'after': startDate,\n",
    "                     'metadata': False,\n",
    "                     'limit': 100})\n",
    "        data = posts.json()['data']\n",
    "        print(startDate, len(data), len(posts.json()['data']))\n",
    "    except JSONDecodeError:\n",
    "        print('Bad gateway error. Retrying…')\n",
    "    return posts"
   ]
  },
  {
   "cell_type": "code",
   "execution_count": 3,
   "id": "eb2e927b",
   "metadata": {},
   "outputs": [],
   "source": [
    "def read_text(subreddit):\n",
    "    if (os.path.isfile('r_' + subreddit + '.txt') == True):\n",
    "        submissions = {}\n",
    "\n",
    "    with open('r_' + subreddit + '.txt', 'r') as f:\n",
    "        submissions['r/' + subreddit] = json.loads(f.read())\n",
    "        return submissions\n",
    "\n",
    "def manage_posts(posts, subreddit):\n",
    "    if (os.path.isfile('r_' + subreddit + '.txt') == False):\n",
    "        with open('r_' + subreddit + '.txt', 'a') as f:\n",
    "            json.dump(posts, f)\n",
    "\n",
    "    return read_text(subreddit);"
   ]
  },
  {
   "cell_type": "code",
   "execution_count": 4,
   "id": "128f8c72",
   "metadata": {},
   "outputs": [
    {
     "name": "stdout",
     "output_type": "stream",
     "text": [
      "1609459200 100 100\n",
      "1609459200 100 100\n",
      "1609459200 100 100\n",
      "1609459200 99 99\n",
      "1609459200 100 100\n",
      "1609459200 57 57\n",
      "1609459200 99 99\n",
      "1612224000 85 85\n",
      "1612224000 100 100\n",
      "1612224000 100 100\n",
      "1612224000 100 100\n",
      "1612224000 100 100\n",
      "1612224000 41 41\n",
      "1612224000 100 100\n",
      "1614643200 90 90\n",
      "1614643200 100 100\n",
      "1614643200 100 100\n",
      "1614643200 99 99\n",
      "1614643200 100 100\n",
      "1614643200 34 34\n",
      "1614643200 100 100\n",
      "1617321600 100 100\n",
      "1617321600 100 100\n",
      "1617321600 100 100\n",
      "1617321600 100 100\n",
      "1617321600 100 100\n",
      "1617321600 73 73\n",
      "1617321600 99 99\n",
      "1619913600 100 100\n",
      "1619913600 100 100\n",
      "1619913600 100 100\n",
      "1619913600 100 100\n",
      "1619913600 100 100\n",
      "1619913600 73 73\n",
      "1619913600 100 100\n",
      "1622592000 100 100\n",
      "1622592000 100 100\n",
      "1622592000 100 100\n",
      "1622592000 99 99\n",
      "1622592000 100 100\n",
      "1622592000 61 61\n",
      "1622592000 100 100\n",
      "1625184000 100 100\n",
      "1625184000 100 100\n",
      "1625184000 100 100\n",
      "1625184000 100 100\n",
      "1625184000 100 100\n",
      "1625184000 62 62\n",
      "1625184000 100 100\n",
      "1627862400 100 100\n",
      "1627862400 100 100\n",
      "1627862400 100 100\n",
      "1627862400 100 100\n",
      "1627862400 99 99\n",
      "1627862400 78 78\n",
      "1627862400 100 100\n",
      "1630540800 100 100\n",
      "1630540800 100 100\n",
      "1630540800 100 100\n",
      "1630540800 100 100\n",
      "1630540800 100 100\n",
      "1630540800 68 68\n",
      "1630540800 100 100\n",
      "1633132800 100 100\n",
      "1633132800 100 100\n",
      "1633132800 100 100\n",
      "1633132800 100 100\n",
      "1633132800 100 100\n",
      "1633132800 54 54\n",
      "1633132800 100 100\n",
      "1635811200 98 98\n",
      "1635811200 100 100\n",
      "1635811200 100 100\n",
      "1635811200 100 100\n",
      "1635811200 100 100\n",
      "1635811200 66 66\n",
      "1635811200 100 100\n",
      "1638403200 100 100\n",
      "1638403200 100 100\n",
      "1638403200 100 100\n",
      "1638403200 100 100\n",
      "1638403200 100 100\n",
      "1638403200 57 57\n",
      "1638403200 100 100\n"
     ]
    }
   ],
   "source": [
    "# Defining dates according to Unix time.\n",
    "\n",
    "time_periods = [[1609459200, 1612137600], # 01-01-21 - 01-02-21\n",
    "              [1612224000, 1614556800], # 02-02-21 - 01-03-21\n",
    "              [1614643200, 1617235200], # 02-03-21 - 01-04-21\n",
    "              [1617321600, 1619827200], # 02-04-21 - 01-05-21\n",
    "              [1619913600, 1622505600], # 02-05-21 - 01-06-21\n",
    "              [1622592000, 1625097600], # 02-06-21 - 01-07-21\n",
    "              [1625184000, 1627776000], # 02-07-21 - 01-08-21\n",
    "              [1627862400, 1630454400], # 02-08-21 - 01-09-21\n",
    "              [1630540800, 1633046400], # 02-09-21 - 01-10-21\n",
    "              [1633132800, 1635724800], # 02-10-21 - 01-11-21\n",
    "              [1635811200, 1638316800], # 02-11-21 - 01-12-21\n",
    "              [1638403200, 1640908800]] # 02-12-21 - 31-12-21\n",
    "\n",
    "posts_stress = []\n",
    "posts_depression = []\n",
    "posts_anxiety = []\n",
    "posts_bipolar = []\n",
    "posts_ptsd = []\n",
    "posts_eatingdisorder = []\n",
    "posts_schizophrenia = []\n",
    "\n",
    "def test(posts):\n",
    "    all_posts = []\n",
    "    for single_post in range(len(posts.json()['data'])):\n",
    "        all_posts.append(posts.json()['data'][single_post])\n",
    "    return all_posts\n",
    "\n",
    "for period in time_periods:\n",
    "    stress = api_request(\"stress\", period[0], period[1])\n",
    "    depression = api_request(\"depression\", period[0], period[1])\n",
    "    anxiety = api_request(\"anxiety\", period[0], period[1])\n",
    "    bipolar = api_request(\"bipolar\", period[0], period[1])\n",
    "    ptsd = api_request(\"ptsd\", period[0], period[1])\n",
    "    eatingdisorder = api_request(\"eatingdisorder\", period[0], period[1])\n",
    "    schizophrenia = api_request(\"schizophrenia\", period[0], period[1])\n",
    "    \n",
    "    posts_stress = test(stress)\n",
    "    posts_depression = test(depression)\n",
    "    posts_anxiety = test(anxiety)\n",
    "    posts_bipolar = test(bipolar)\n",
    "    posts_ptsd = test(ptsd)\n",
    "    posts_eatingdisorder = test(eatingdisorder)\n",
    "    posts_schizophrenia = test(schizophrenia)\n",
    "\n",
    "stress_json = manage_posts(posts_stress, \"stress\")\n",
    "depression_json = manage_posts(posts_depression, \"depression\")\n",
    "anxiety_json = manage_posts(posts_anxiety, \"anxiety\")\n",
    "bipolar_json = manage_posts(posts_bipolar, \"bipolar\")\n",
    "ptsd_json = manage_posts(posts_ptsd, \"ptsd\")\n",
    "eatingdisorder_json = manage_posts(posts_eatingdisorder, \"eatingdisorder\")\n",
    "schizophrenia_json = manage_posts(posts_schizophrenia, \"schizophrenia\")"
   ]
  },
  {
   "cell_type": "code",
   "execution_count": 5,
   "id": "7689a5a6",
   "metadata": {},
   "outputs": [],
   "source": [
    "def get_dataframe(subreddit_json):\n",
    "    for subreddit, posts in subreddit_json.items():\n",
    "        subreddit_df = pd.DataFrame(posts, columns=['id', 'created_utc',\n",
    "                       'author', 'title', 'selftext', 'subreddit_subscribers'])\n",
    "        pd.options.display.max_colwidth = 1000\n",
    "        subreddit_df.columns = ['ID', 'Date created', 'Author', 'Title', 'Selftext', 'Subscribers']\n",
    "\n",
    "        # The way fetching data works, it is very possible that we also have some entries that are outside the defined period (Jan–Jun 2018, 2019, 2020). We are going to remove them after converting the dates from unix time to pandas' own timestamps.\n",
    "        subreddit_df['Date created'] = pd.to_datetime(subreddit_df['Date created'], unit='s')\n",
    "\n",
    "    return subreddit_df"
   ]
  },
  {
   "cell_type": "code",
   "execution_count": 6,
   "id": "915e75f6",
   "metadata": {},
   "outputs": [
    {
     "name": "stdout",
     "output_type": "stream",
     "text": [
      "Stored 'stress_df' (DataFrame)\n",
      "Stored 'depression_df' (DataFrame)\n",
      "Stored 'anxiety_df' (DataFrame)\n",
      "Stored 'bipolar_df' (DataFrame)\n",
      "Stored 'ptsd_df' (DataFrame)\n",
      "Stored 'eatingdisorder_df' (DataFrame)\n",
      "Stored 'schizophrenia_df' (DataFrame)\n"
     ]
    },
    {
     "data": {
      "text/html": [
       "<div>\n",
       "<style scoped>\n",
       "    .dataframe tbody tr th:only-of-type {\n",
       "        vertical-align: middle;\n",
       "    }\n",
       "\n",
       "    .dataframe tbody tr th {\n",
       "        vertical-align: top;\n",
       "    }\n",
       "\n",
       "    .dataframe thead th {\n",
       "        text-align: right;\n",
       "    }\n",
       "</style>\n",
       "<table border=\"1\" class=\"dataframe\">\n",
       "  <thead>\n",
       "    <tr style=\"text-align: right;\">\n",
       "      <th></th>\n",
       "      <th>ID</th>\n",
       "      <th>Date created</th>\n",
       "      <th>Author</th>\n",
       "      <th>Title</th>\n",
       "      <th>Selftext</th>\n",
       "      <th>Subscribers</th>\n",
       "    </tr>\n",
       "  </thead>\n",
       "  <tbody>\n",
       "    <tr>\n",
       "      <th>95</th>\n",
       "      <td>rqmfko</td>\n",
       "      <td>2021-12-28 18:36:56</td>\n",
       "      <td>Effective_Plenty2040</td>\n",
       "      <td>(Playlist) Let's get lost in our own world and leave our worries behind. Let's chill and remove the stress from our minds shall we?</td>\n",
       "      <td>https://youtu.be/PkSHnmpRGDg</td>\n",
       "      <td>12603</td>\n",
       "    </tr>\n",
       "    <tr>\n",
       "      <th>96</th>\n",
       "      <td>rqstu5</td>\n",
       "      <td>2021-12-28 23:26:05</td>\n",
       "      <td>amandasbitch</td>\n",
       "      <td>Ugh!</td>\n",
       "      <td>So I was diagnosed with congestive heart failure a few months back. On top of the meds I now have to take for my weak heart, Drs stress that I avoid stress as it will raise my pressure and heart rate. I had to leave my job due to this condition,  social security is taking their sweet time and I am now broke and still have bills and my kids to take care of. \\n     Does anyone have some natural ways I can try and manage the stress of all of this without doing more/worse damage to my heart. I am literally sleeping maybe 2 hours a night and I have tried meditation, ASMR etc etc. Nothing is helping at all. I need to de stress! \\n     Thank you for listening!</td>\n",
       "      <td>12604</td>\n",
       "    </tr>\n",
       "    <tr>\n",
       "      <th>97</th>\n",
       "      <td>rqxbgz</td>\n",
       "      <td>2021-12-29 02:57:11</td>\n",
       "      <td>itsjay88</td>\n",
       "      <td>Nightmares While Awake</td>\n",
       "      <td>Influence, manipulation, hopelessness.\\n\\nDown the rabbit hole we all go. \\n\\nFor inaction is the same as giving permission. The absence of resistance is willingness to be played with like a toy.</td>\n",
       "      <td>12604</td>\n",
       "    </tr>\n",
       "    <tr>\n",
       "      <th>98</th>\n",
       "      <td>rr3dfq</td>\n",
       "      <td>2021-12-29 08:33:39</td>\n",
       "      <td>T-IKEICH</td>\n",
       "      <td>Caring | Piano Music for studying, Focus Work, Relaxing, Stress Relief, Spa, Calm Mind Vibes</td>\n",
       "      <td>“The simple act of caring is heroic.”  — Edward Albert \\n\\n[https://youtu.be/yIXpkSmYIlI](https://youtu.be/yIXpkSmYIlI)</td>\n",
       "      <td>12603</td>\n",
       "    </tr>\n",
       "    <tr>\n",
       "      <th>99</th>\n",
       "      <td>rrmwz4</td>\n",
       "      <td>2021-12-30 00:05:18</td>\n",
       "      <td>SeriousPuppet</td>\n",
       "      <td>I wish I could talk to someone about my stress</td>\n",
       "      <td>I have tried a therapist and a life coach. Didn't really help much. Was nice to chat with them sure, but I feel it would be just as good chatting with a random person.</td>\n",
       "      <td>12604</td>\n",
       "    </tr>\n",
       "  </tbody>\n",
       "</table>\n",
       "</div>"
      ],
      "text/plain": [
       "        ID        Date created                Author  \\\n",
       "95  rqmfko 2021-12-28 18:36:56  Effective_Plenty2040   \n",
       "96  rqstu5 2021-12-28 23:26:05          amandasbitch   \n",
       "97  rqxbgz 2021-12-29 02:57:11              itsjay88   \n",
       "98  rr3dfq 2021-12-29 08:33:39              T-IKEICH   \n",
       "99  rrmwz4 2021-12-30 00:05:18         SeriousPuppet   \n",
       "\n",
       "                                                                                                                                  Title  \\\n",
       "95  (Playlist) Let's get lost in our own world and leave our worries behind. Let's chill and remove the stress from our minds shall we?   \n",
       "96                                                                                                                                 Ugh!   \n",
       "97                                                                                                               Nightmares While Awake   \n",
       "98                                         Caring | Piano Music for studying, Focus Work, Relaxing, Stress Relief, Spa, Calm Mind Vibes   \n",
       "99                                                                                       I wish I could talk to someone about my stress   \n",
       "\n",
       "                                                                                                                                                                                                                                                                                                                                                                                                                                                                                                                                                                                                                                                                                       Selftext  \\\n",
       "95                                                                                                                                                                                                                                                                                                                                                                                                                                                                                                                                                                                                                                                                 https://youtu.be/PkSHnmpRGDg   \n",
       "96        So I was diagnosed with congestive heart failure a few months back. On top of the meds I now have to take for my weak heart, Drs stress that I avoid stress as it will raise my pressure and heart rate. I had to leave my job due to this condition,  social security is taking their sweet time and I am now broke and still have bills and my kids to take care of. \\n     Does anyone have some natural ways I can try and manage the stress of all of this without doing more/worse damage to my heart. I am literally sleeping maybe 2 hours a night and I have tried meditation, ASMR etc etc. Nothing is helping at all. I need to de stress! \\n     Thank you for listening!   \n",
       "97                                                                                                                                                                                                                                                                                                                                                                                                                                                                                          Influence, manipulation, hopelessness.\\n\\nDown the rabbit hole we all go. \\n\\nFor inaction is the same as giving permission. The absence of resistance is willingness to be played with like a toy.   \n",
       "98                                                                                                                                                                                                                                                                                                                                                                                                                                                                                                                                                                      “The simple act of caring is heroic.”  — Edward Albert \\n\\n[https://youtu.be/yIXpkSmYIlI](https://youtu.be/yIXpkSmYIlI)   \n",
       "99                                                                                                                                                                                                                                                                                                                                                                                                                                                                                                                      I have tried a therapist and a life coach. Didn't really help much. Was nice to chat with them sure, but I feel it would be just as good chatting with a random person.   \n",
       "\n",
       "    Subscribers  \n",
       "95        12603  \n",
       "96        12604  \n",
       "97        12604  \n",
       "98        12603  \n",
       "99        12604  "
      ]
     },
     "execution_count": 6,
     "metadata": {},
     "output_type": "execute_result"
    }
   ],
   "source": [
    "stress_df = get_dataframe(stress_json)\n",
    "depression_df = get_dataframe(depression_json)\n",
    "anxiety_df = get_dataframe(anxiety_json)\n",
    "bipolar_df = get_dataframe(bipolar_json)\n",
    "ptsd_df = get_dataframe(ptsd_json)\n",
    "eatingdisorder_df = get_dataframe(eatingdisorder_json)\n",
    "schizophrenia_df = get_dataframe(schizophrenia_json)\n",
    "\n",
    "%store stress_df\n",
    "%store depression_df\n",
    "%store anxiety_df\n",
    "%store bipolar_df\n",
    "%store ptsd_df\n",
    "%store eatingdisorder_df\n",
    "%store schizophrenia_df\n",
    "\n",
    "stress_df.tail()"
   ]
  },
  {
   "cell_type": "code",
   "execution_count": 7,
   "id": "ab57d89b",
   "metadata": {},
   "outputs": [
    {
     "data": {
      "text/plain": [
       "'**I have a 57.75 in Math right now. I have less than 2 weeks to bring up my math grade from an F to a D (3 points) before I need to go to summer school and re-take it next year, and maybe not graduate. I am a Sophomore in high-school. Math has never been something I am good at. I have 2 more tests, including one tomorrow. My parents are yelling at me and stressing me out and making my self harming issue worse, and they wont get me a tutor. Ive been having dizzy spells and fainting spells because im so stressed that I forget to take care of myself and life is shit. WHAT do I do???**'"
      ]
     },
     "execution_count": 7,
     "metadata": {},
     "output_type": "execute_result"
    }
   ],
   "source": [
    "stress_df['Selftext'][0]"
   ]
  },
  {
   "cell_type": "code",
   "execution_count": 8,
   "id": "033c0d42",
   "metadata": {},
   "outputs": [
    {
     "data": {
      "text/plain": [
       "\"Sometimes we just need a hug, especially with everything going on right now. So, for anyone that has nobody to talk to, or anyone healing from past things they don't talk about, or for anyone that just needs a hug. This is virtual hug from me to you. 🤗\""
      ]
     },
     "execution_count": 8,
     "metadata": {},
     "output_type": "execute_result"
    }
   ],
   "source": [
    "anxiety_df['Selftext'][0]"
   ]
  },
  {
   "cell_type": "code",
   "execution_count": 9,
   "id": "7839586d",
   "metadata": {},
   "outputs": [
    {
     "data": {
      "text/plain": [
       "\"What if we all were wearing HUD heads up display and we could see text bubbles when people spoke and conversations were always recorded. Imagine a world where everybody was a surveillance device with HUDS monitoring audio communications more advanced then Google glasses. Sorry if I'm triggering those with paranoia. These are some fleeting thoughts I get when listening to binaural beats. I feel like I'm one step removed from some important truth. My mind is becoming free in a healthy way. Earth wind water fire air elements my brain is trying to become. I'm entering a void devoid of limits where am I headed to. My mind feels in place yet far into space...\""
      ]
     },
     "execution_count": 9,
     "metadata": {},
     "output_type": "execute_result"
    }
   ],
   "source": [
    "bipolar_df['Selftext'][0]"
   ]
  },
  {
   "cell_type": "code",
   "execution_count": 10,
   "id": "43d644c4",
   "metadata": {},
   "outputs": [
    {
     "data": {
      "text/plain": [
       "'my boyfriend had been sexually assaulting me and raped me, but i didn’t realize what was really happening. when i did, i talked it through w/ him. he said sorry, won’t do it again &amp; cried. so we’re moving on. but i feel it hurt me a lot, emotionally. i feel like my body isn’t mine, it’s dirty, i want to take it off. i cry often now, thinking abt the rape all the time. i’m so hurt. what do i do? i still love him'"
      ]
     },
     "execution_count": 10,
     "metadata": {},
     "output_type": "execute_result"
    }
   ],
   "source": [
    "ptsd_df['Selftext'][0]"
   ]
  },
  {
   "cell_type": "code",
   "execution_count": 11,
   "id": "f9068efd",
   "metadata": {},
   "outputs": [
    {
     "data": {
      "text/plain": [
       "'Today I went out with my aunt and we ate kraftwich for lunch. We both order our own portion of a kraftwich, mushroom soup and a drink (mine latte, hers lemon tea). Usually I would NEVER finish my food whilst she does. Today was the other way round, I finished my kraftwich and mushroom and left out my latte because it was TOO COLD!!!! Whereas she didnt finish her kraftwich but finished her mushroom soup and drink. \\n\\nAfter watching her not finishing her food, I felt really bad for myself as I have actually swallowed a huge sandwich and soup whilst she swallowed her soup and drink. \\n\\nP. S. \\nJust a sharing...'"
      ]
     },
     "execution_count": 11,
     "metadata": {},
     "output_type": "execute_result"
    }
   ],
   "source": [
    "eatingdisorder_df['Selftext'][19]"
   ]
  },
  {
   "cell_type": "code",
   "execution_count": 12,
   "id": "90c6e06e",
   "metadata": {},
   "outputs": [
    {
     "data": {
      "text/plain": [
       "'So what is a mental breakdown?'"
      ]
     },
     "execution_count": 12,
     "metadata": {},
     "output_type": "execute_result"
    }
   ],
   "source": [
    "schizophrenia_df['Selftext'][0]"
   ]
  },
  {
   "cell_type": "code",
   "execution_count": 13,
   "id": "29682769",
   "metadata": {},
   "outputs": [
    {
     "data": {
      "text/plain": [
       "'Thank you all for being there and listening 🥰.\\n\\nYou all rock and I hope you have a wonderful day.'"
      ]
     },
     "execution_count": 13,
     "metadata": {},
     "output_type": "execute_result"
    }
   ],
   "source": [
    "schizophrenia_df['Selftext'][1]"
   ]
  }
 ],
 "metadata": {
  "kernelspec": {
   "display_name": "Python 3 (ipykernel)",
   "language": "python",
   "name": "python3"
  },
  "language_info": {
   "codemirror_mode": {
    "name": "ipython",
    "version": 3
   },
   "file_extension": ".py",
   "mimetype": "text/x-python",
   "name": "python",
   "nbconvert_exporter": "python",
   "pygments_lexer": "ipython3",
   "version": "3.8.12"
  }
 },
 "nbformat": 4,
 "nbformat_minor": 5
}
